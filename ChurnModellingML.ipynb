{
 "cells": [
  {
   "cell_type": "code",
   "execution_count": null,
   "id": "1c444624-9e86-43f8-891a-76020e209257",
   "metadata": {},
   "outputs": [],
   "source": [
    "import numpy as np \n",
    "import pandas as pd\n",
    "import matplotlib.pyplot as plt\n",
    "import seaborn as sns\n",
    "import plotly.express as ex\n",
    "import plotly.graph_objs as go\n",
    "import plotly.figure_factory as ff\n",
    "from plotly.subplots import make_subplots\n",
    "import plotly.offline as pyo\n",
    "pyo.init_notebook_mode()\n",
    "sns.set_style('whitegrid')\n",
    "from sklearn.decomposition import PCA\n",
    "from sklearn.model_selection import train_test_split,cross_val_score\n",
    "from sklearn.ensemble import RandomForestClassifier,AdaBoostClassifier\n",
    "from sklearn.svm import SVC\n",
    "from sklearn.pipeline import Pipeline\n",
    "from sklearn.preprocessing import StandardScaler\n",
    "from sklearn.metrics import f1_score as f1\n",
    "from sklearn.metrics import confusion_matrix\n",
    "#import scikitplot as skplt\n",
    "\n",
    "plt.rc('figure',figsize=(18,9))\n",
    "%pip install imbalanced-learn\n",
    "from imblearn.over_sampling import SMOTE"
   ]
  },
  {
   "cell_type": "code",
   "execution_count": null,
   "id": "c25e1409-4fe2-4319-9aa6-1dfbdba6f5d4",
   "metadata": {},
   "outputs": [],
   "source": [
    "df = pd.read_csv(\"BankChurners.csv\")"
   ]
  },
  {
   "cell_type": "code",
   "execution_count": null,
   "id": "ca0a9a69-8be1-4997-92d3-bc552e88ec3e",
   "metadata": {},
   "outputs": [],
   "source": [
    "df.head(5)\n",
    "# As it is shown we dont need the last 2 columns for the analysis"
   ]
  },
  {
   "cell_type": "code",
   "execution_count": null,
   "id": "449a1681-0b7d-4732-b822-2f1f410c4964",
   "metadata": {},
   "outputs": [],
   "source": [
    "# Dataset to use\n",
    "data = df[df.columns[:-2]]\n",
    "data"
   ]
  },
  {
   "cell_type": "markdown",
   "id": "c1ec0a79-1a45-4f49-87f4-9fc0adc4ee77",
   "metadata": {},
   "source": [
    "# Explolatory Data Analysis"
   ]
  },
  {
   "cell_type": "code",
   "execution_count": null,
   "id": "6c4ac2a4-3efd-4fc5-953b-cddf651a6d7a",
   "metadata": {},
   "outputs": [],
   "source": [
    "# Age Bar Chart"
   ]
  },
  {
   "cell_type": "code",
   "execution_count": null,
   "id": "e6bd005a-7f08-4616-804d-f8635e7d3310",
   "metadata": {},
   "outputs": [],
   "source": [
    "age = data[\"Customer_Age\"]"
   ]
  },
  {
   "cell_type": "code",
   "execution_count": null,
   "id": "2010d5e4-f65e-4ab3-876d-b57a2ddcbce6",
   "metadata": {},
   "outputs": [],
   "source": [
    "bins = range(20, 100, 10)"
   ]
  },
  {
   "cell_type": "code",
   "execution_count": null,
   "id": "487d251e-2611-44ac-9911-0d423a4b757d",
   "metadata": {},
   "outputs": [],
   "source": [
    "# Plot the histogram\n",
    "plt.figure(figsize=(10, 6))\n",
    "plt.hist(age, bins=bins, edgecolor='black', alpha=0.7)\n",
    "plt.title('Age Distribution of Customers', fontsize=16)\n",
    "plt.xlabel('Age', fontsize=14)\n",
    "plt.ylabel('Frequency', fontsize=14)\n",
    "plt.xticks(bins)\n",
    "plt.grid(axis='y', linestyle='--', alpha=0.7)\n",
    "plt.show()"
   ]
  },
  {
   "cell_type": "markdown",
   "id": "6ca5fcc8-a258-4652-b8d2-afe18a415bcf",
   "metadata": {},
   "source": [
    "# As it is depticted most clients fall in the catefory from 40 till 60 years old and especially between the age of 40-50 are the most clients"
   ]
  },
  {
   "cell_type": "code",
   "execution_count": null,
   "id": "5dd5b8fc-d5fd-48b8-a15c-167350a3dc22",
   "metadata": {},
   "outputs": [],
   "source": [
    "# Card Distribution - group the data based on the card category and Gender\n",
    "card_distribution = data.groupby(['Card_Category', 'Gender']).size().unstack()"
   ]
  },
  {
   "cell_type": "code",
   "execution_count": null,
   "id": "3f712b21-7233-4a9f-98f8-65f24d96fde8",
   "metadata": {},
   "outputs": [],
   "source": [
    "# Calculate the percentage for each type whether it is the customer male of female\n",
    "card_gender = (card_distribution.T / card_distribution.sum(axis=1)).T * 100"
   ]
  },
  {
   "cell_type": "code",
   "execution_count": null,
   "id": "61690249-4a97-43fb-8f68-220d1f4ceae5",
   "metadata": {},
   "outputs": [],
   "source": [
    "#Pie Chart\n",
    "# Plot a pie chart for each card category\n",
    "fig, axes = plt.subplots(nrows=2, ncols=2, figsize=(14, 10))\n",
    "\n",
    "# Flatten the axes for easy iteration\n",
    "axes = axes.flatten()\n",
    "\n",
    "# Card categories\n",
    "card_categories = card_gender.index\n",
    "\n",
    "# Create pie charts for each card category\n",
    "for i, card in enumerate(card_categories):\n",
    "    if i < len(axes):\n",
    "        ax = axes[i]\n",
    "        card_gender.loc[card].plot.pie(\n",
    "            autopct='%1.1f%%', ax=ax, startangle=90, labels=card_gender.columns, colors=['skyblue', 'lightcoral']\n",
    "        )\n",
    "        ax.set_ylabel('')\n",
    "        ax.set_title(f\"Card: {card}\", fontsize=14)\n",
    "\n",
    "# Adjust layout\n",
    "plt.tight_layout()\n",
    "plt.show()"
   ]
  },
  {
   "cell_type": "markdown",
   "id": "4463324b-0c6e-4b82-bc34-57d7c378bbf9",
   "metadata": {},
   "source": [
    "#### Across all types of cards there is a sligth difference between dender distribution we can see that men have mostly Blue cards but in all other types there are more women"
   ]
  },
  {
   "cell_type": "code",
   "execution_count": null,
   "id": "8655342f-efd3-4564-8a48-854da43242fa",
   "metadata": {},
   "outputs": [],
   "source": [
    "# Count how many people on each education level\n",
    "counter = data['Education_Level'].value_counts()\n",
    "\n",
    "plt.figure(figsize=(10, 6))\n",
    "counter.plot(kind='bar', color='skyblue', edgecolor='black', alpha=0.8)\n",
    "plt.title('Education Level Distribution', fontsize=16)\n",
    "plt.xlabel('Education Level', fontsize=14)\n",
    "plt.ylabel('Count', fontsize=14)\n",
    "plt.xticks(rotation=45, ha='right')\n",
    "plt.grid(axis='y', linestyle='--', alpha=0.7)\n",
    "plt.show()"
   ]
  },
  {
   "cell_type": "markdown",
   "id": "055c2241-a62e-4bd7-a340-96c0141834c3",
   "metadata": {},
   "source": [
    "## As it is depicted we can clearly see that most of our clients have graduated and have at least a level of formal education."
   ]
  },
  {
   "cell_type": "code",
   "execution_count": null,
   "id": "5383f3c0-df72-4f4f-bf20-a0ec7c019439",
   "metadata": {},
   "outputs": [],
   "source": [
    "# Marital Status\n",
    "counter = data['Marital_Status'].value_counts()\n",
    "marital_status = (counter / counter.sum()) * 100\n",
    "\n",
    "plt.figure(figsize=(8, 5))\n",
    "marital_status[['Married', 'Single']].plot(kind='bar', color=['skyblue', 'lightcoral'], edgecolor='black', alpha=0.8)\n",
    "plt.title('Percentage of Married vs Single Customers', fontsize=16)\n",
    "plt.xlabel('Marital Status', fontsize=14)\n",
    "plt.ylabel('Percentage', fontsize=14)\n",
    "plt.xticks(rotation=0)\n",
    "plt.ylim(0, 100)\n",
    "plt.grid(axis='y', linestyle='--', alpha=0.7)\n",
    "plt.show()\n"
   ]
  },
  {
   "cell_type": "markdown",
   "id": "5bebd562-0337-4432-923f-0cbe416e43f5",
   "metadata": {},
   "source": [
    "## It is clearly depicted that in the Dataset we have more Married than Single customer"
   ]
  },
  {
   "cell_type": "code",
   "execution_count": null,
   "id": "46ba9e72-5483-4575-8169-3efc7ab160ba",
   "metadata": {},
   "outputs": [],
   "source": [
    "income_levels = {\n",
    "    'Less than $40K': 20,\n",
    "    '$40K - $60K': 50,\n",
    "    '$60K - $80K': 70,\n",
    "    '$80K - $120K': 100,\n",
    "    '$120K +': 140,\n",
    "    'Unknown': None\n",
    "}"
   ]
  },
  {
   "cell_type": "code",
   "execution_count": null,
   "id": "255eb088-fce4-46bc-afcd-66e4f6c73366",
   "metadata": {},
   "outputs": [],
   "source": [
    "data['Income_Numeric'] = data['Income_Category'].map(income_levels)"
   ]
  },
  {
   "cell_type": "code",
   "execution_count": null,
   "id": "2e4654fb-5333-432e-8078-9bd3e73c432e",
   "metadata": {},
   "outputs": [],
   "source": [
    "# Bin the income levels\n",
    "bins = [0, 20, 40, 60, 80, 100, 140]\n",
    "labels = ['<20', '20-40', '40-60', '60-80', '80-100', '100+']\n",
    "data['Income_Binned'] = pd.cut(data['Income_Numeric'], bins=bins, labels=labels, right=False)\n"
   ]
  },
  {
   "cell_type": "code",
   "execution_count": null,
   "id": "8481eb1b-47cf-4eb0-a6c9-ab8f4cd431ef",
   "metadata": {},
   "outputs": [],
   "source": [
    "# Pie Chart\n",
    "bin_counts = data['Income_Binned'].value_counts(sort=False)\n",
    "plt.figure(figsize=(8, 8))\n",
    "bin_counts.plot.pie(autopct='%1.1f%%', startangle=90, colors=plt.cm.Paired.colors, wedgeprops=dict(edgecolor='black'))\n",
    "plt.title('Income Level Distribution', fontsize=16)\n",
    "plt.ylabel('')  # Remove the y-axis label\n",
    "plt.show()"
   ]
  },
  {
   "cell_type": "markdown",
   "id": "bffbf216-8b7f-43aa-bf58-52775b706231",
   "metadata": {},
   "source": [
    "## 43 percent of our clients fall for the category of 20-40 thousand"
   ]
  },
  {
   "cell_type": "markdown",
   "id": "655eaa15-a05a-4c51-a32a-9cb7e1d8ee40",
   "metadata": {},
   "source": [
    "# Different Card Categories"
   ]
  },
  {
   "cell_type": "code",
   "execution_count": null,
   "id": "9cef2ac3-fa82-4c1b-9223-829c041ac862",
   "metadata": {},
   "outputs": [],
   "source": [
    "counter = data['Card_Category'].value_counts()\n",
    "plt.figure(figsize=(10, 6))\n",
    "counter.plot(kind='bar', color='lightblue', edgecolor='black', alpha=0.8)\n",
    "plt.title('Number of Users by Card Category', fontsize=16)\n",
    "plt.xlabel('Card Category', fontsize=14)\n",
    "plt.ylabel('Number of Users', fontsize=14)\n",
    "plt.xticks(rotation=45, ha='right')\n",
    "plt.grid(axis='y', linestyle='--', alpha=0.7)\n",
    "plt.show()"
   ]
  },
  {
   "cell_type": "markdown",
   "id": "10bfca41-e9f9-4e5f-bc4c-e05603127823",
   "metadata": {},
   "source": [
    "### As we could see more people use Blue cards"
   ]
  },
  {
   "cell_type": "code",
   "execution_count": null,
   "id": "e636577b-08e4-4aa6-b7d6-f5f3d8c93c2a",
   "metadata": {},
   "outputs": [],
   "source": [
    "# Counter of Customers \n",
    "counter = data['Attrition_Flag'].value_counts()\n",
    "\n",
    "plt.figure(figsize=(8, 8))\n",
    "counter.plot.pie(autopct='%1.1f%%', startangle=90, colors=['skyblue', 'lightcoral'], wedgeprops=dict(edgecolor='black'))\n",
    "plt.title('Customer Churn Distribution (Existing vs Churned)', fontsize=16)\n",
    "plt.ylabel('')  # Remove the y-axis label\n",
    "plt.show()"
   ]
  },
  {
   "cell_type": "markdown",
   "id": "1100bc9e-bb77-4481-a8e9-6de36833136f",
   "metadata": {},
   "source": [
    "### In this dataset more customers are existing than staying"
   ]
  },
  {
   "cell_type": "markdown",
   "id": "9ebf42c0-20ba-4836-b053-84fa46bebd32",
   "metadata": {},
   "source": [
    "# Data Preprocessing"
   ]
  },
  {
   "cell_type": "code",
   "execution_count": null,
   "id": "8ba4cc87-02fc-44ba-b762-be8b1dba8843",
   "metadata": {},
   "outputs": [],
   "source": [
    "data_processed = df[df.columns[:-2]]\n",
    "data_processed\n",
    "data_processed['Attrition_Flag'] = data_processed['Attrition_Flag'].map({'Attrited Customer': 1, 'Existing Customer': 0})\n",
    "data_processed['Gender'] = data_processed['Gender'].map({'F': 1, 'M': 0})\n",
    "categorical_columns = ['Education_Level', 'Income_Category', 'Marital_Status', 'Card_Category']\n",
    "data_processed = pd.get_dummies(data_processed, columns=categorical_columns, drop_first=True)\n",
    "columns_to_drop = ['CLIENTNUM']\n",
    "data_processed.drop(columns=columns_to_drop, inplace=True)"
   ]
  },
  {
   "cell_type": "code",
   "execution_count": null,
   "id": "1743c561-1c2e-415e-a0f1-5885dc86048b",
   "metadata": {},
   "outputs": [],
   "source": [
    "data_processed"
   ]
  },
  {
   "cell_type": "markdown",
   "id": "f2d4bcc2-9152-40a5-a5f0-5b8ce54c1b02",
   "metadata": {},
   "source": [
    "## Data Unsampling Using SMOTE"
   ]
  },
  {
   "cell_type": "code",
   "execution_count": null,
   "id": "8db99777-6312-4e6e-904b-11086f87530f",
   "metadata": {},
   "outputs": [],
   "source": [
    "over_sampler = SMOTE()\n",
    "X, y = over_sampler.fit_resample(data_processed.drop(columns=['Attrition_Flag']), data_processed['Attrition_Flag'])"
   ]
  },
  {
   "cell_type": "code",
   "execution_count": null,
   "id": "49ab446d-46c8-4c12-9189-edc5506fad88",
   "metadata": {},
   "outputs": [],
   "source": [
    "upsampled_df = X.copy()\n",
    "upsampled_df['Churn'] = y"
   ]
  },
  {
   "cell_type": "code",
   "execution_count": null,
   "id": "2ad5e019-f013-4e2e-a495-e4db6b98a894",
   "metadata": {},
   "outputs": [],
   "source": [
    "data_from_smote = upsampled_df[upsampled_df.columns[15:-1]].copy()\n",
    "upsampled_df = upsampled_df.drop(columns=upsampled_df.columns[15:-1])"
   ]
  },
  {
   "cell_type": "markdown",
   "id": "8501b5ab-da50-4da9-8a04-26f58ba65308",
   "metadata": {},
   "source": [
    "# Principal Component Analysis"
   ]
  },
  {
   "cell_type": "markdown",
   "id": "b8cd96bf-5a5c-4f57-a078-497b52f9525a",
   "metadata": {},
   "source": [
    "## We will use principal component analysis to reduce the dimensionality of the one-hot encoded categorical variables losing some of the variances, but simultaneously, using a couple of principal components instead of tens of one-hot encoded features will help me construct a better model.\n",
    "\n"
   ]
  },
  {
   "cell_type": "code",
   "execution_count": null,
   "id": "5ded06b1-616e-4e85-821a-db9b2dadb28d",
   "metadata": {},
   "outputs": [],
   "source": [
    "N_COMPONENTS = 4\n",
    "\n",
    "pca_model = PCA(n_components = N_COMPONENTS )\n",
    "\n",
    "pc_matrix = pca_model.fit_transform(data_from_smote)\n",
    "\n",
    "evr = pca_model.explained_variance_ratio_\n",
    "total_var = evr.sum() * 100\n",
    "cumsum_evr = np.cumsum(evr)\n",
    "\n",
    "trace1 = {\n",
    "    \"name\": \"individual explained variance\", \n",
    "    \"type\": \"bar\", \n",
    "    'y':evr}\n",
    "trace2 = {\n",
    "    \"name\": \"cumulative explained variance\", \n",
    "    \"type\": \"scatter\", \n",
    "     'y':cumsum_evr}\n",
    "data = [trace1, trace2]\n",
    "layout = {\n",
    "    \"xaxis\": {\"title\": \"Principal components\"}, \n",
    "    \"yaxis\": {\"title\": \"Explained variance ratio\"},\n",
    "  }\n",
    "fig = go.Figure(data=data, layout=layout)\n",
    "fig.update_layout(     title='Explained Variance Using {} Dimensions'.format(N_COMPONENTS))\n",
    "fig.show()"
   ]
  },
  {
   "cell_type": "code",
   "execution_count": null,
   "id": "1df794a3-6ad0-41e1-94bf-bd7b115160b1",
   "metadata": {},
   "outputs": [],
   "source": [
    "usampled_df_with_pcs = pd.concat([upsampled_df,pd.DataFrame(pc_matrix,columns=['PC-{}'.format(i) for i in range(0,N_COMPONENTS)])],axis=1)\n",
    "usampled_df_with_pcs"
   ]
  },
  {
   "cell_type": "code",
   "execution_count": null,
   "id": "fd1b393f-3b94-4919-ade1-802f9ee2b81b",
   "metadata": {},
   "outputs": [],
   "source": [
    "X_features = ['Total_Trans_Ct','PC-3','PC-1','PC-0','PC-2','Total_Ct_Chng_Q4_Q1','Total_Relationship_Count']"
   ]
  },
  {
   "cell_type": "code",
   "execution_count": null,
   "id": "b4eaac95-3544-49a3-95d3-ae623ecb8cee",
   "metadata": {},
   "outputs": [],
   "source": [
    "X = usampled_df_with_pcs[X_features]\n",
    "y = usampled_df_with_pcs['Churn']"
   ]
  },
  {
   "cell_type": "code",
   "execution_count": null,
   "id": "48ad3c5b-c6f9-4251-98f8-3c4ce9ce9d8b",
   "metadata": {},
   "outputs": [],
   "source": [
    "train_x,test_x,train_y,test_y = train_test_split(X,y,random_state=42)"
   ]
  },
  {
   "cell_type": "code",
   "execution_count": null,
   "id": "ae7413ae-ed6c-4d8f-bb62-439b6a7a8098",
   "metadata": {},
   "outputs": [],
   "source": [
    "rf_algo = RandomForestClassifier(random_state = 42)\n",
    "rf_algo.fit(train_x, test_x)"
   ]
  },
  {
   "cell_type": "code",
   "execution_count": null,
   "id": "240c66e3-7f88-4805-9e70-2189f52d7f05",
   "metadata": {},
   "outputs": [],
   "source": []
  }
 ],
 "metadata": {
  "kernelspec": {
   "display_name": "Python 3 (ipykernel)",
   "language": "python",
   "name": "python3"
  },
  "language_info": {
   "codemirror_mode": {
    "name": "ipython",
    "version": 3
   },
   "file_extension": ".py",
   "mimetype": "text/x-python",
   "name": "python",
   "nbconvert_exporter": "python",
   "pygments_lexer": "ipython3",
   "version": "3.12.7"
  }
 },
 "nbformat": 4,
 "nbformat_minor": 5
}
